{
 "cells": [
  {
   "cell_type": "code",
   "execution_count": 9,
   "metadata": {
    "collapsed": false
   },
   "outputs": [],
   "source": [
    "import pandas\n",
    "# Loading data into the 2 dataframes\n",
    "seattle_df = pandas.DataFrame.from_csv(\"/Users/ralphblanes/PycharmProjects/Data-Science-Projects/Crime Visualizations/seattle_incidents_summer_2014.csv\")\n",
    "sanfran_df = pandas.DataFrame.from_csv(\"/Users/ralphblanes/PycharmProjects/Data-Science-Projects/Crime Visualizations/sanfrancisco_incidents_summer_2014.csv\")\n"
   ]
  },
  {
   "cell_type": "code",
   "execution_count": 10,
   "metadata": {
    "collapsed": false
   },
   "outputs": [
    {
     "name": "stdout",
     "output_type": "stream",
     "text": [
      "            General Offense Number Offense Code  Offense Code Extension  \\\n",
      "RMS CDW ID                                                                \n",
      "483839                  2015218538         2202                       0   \n",
      "481252                  2015213067         2610                       0   \n",
      "481375                  2015210301         2316                       0   \n",
      "481690                  2015209327         2599                       0   \n",
      "478198                  2015207880         2399                       3   \n",
      "\n",
      "                    Offense Type Summary Offense Code  \\\n",
      "RMS CDW ID                                              \n",
      "483839        BURGLARY-FORCE-RES                 2200   \n",
      "481252      FRAUD-IDENTITY THEFT                 2600   \n",
      "481375                THEFT-MAIL                 2300   \n",
      "481690               COUNTERFEIT                 2500   \n",
      "478198                 THEFT-OTH                 2300   \n",
      "\n",
      "           Summarized Offense Description           Date Reported  \\\n",
      "RMS CDW ID                                                          \n",
      "483839                           BURGLARY  06/28/2015 10:31:00 AM   \n",
      "481252                              FRAUD  06/24/2015 11:09:00 AM   \n",
      "481375                         MAIL THEFT  06/22/2015 09:22:00 AM   \n",
      "481690                        COUNTERFEIT  06/21/2015 03:52:00 PM   \n",
      "478198                     OTHER PROPERTY  06/20/2015 11:59:00 AM   \n",
      "\n",
      "           Occurred Date or Date Range Start Occurred Date Range End  \\\n",
      "RMS CDW ID                                                             \n",
      "483839                06/28/2014 10:31:00 AM  06/28/2015 10:31:00 AM   \n",
      "481252                06/01/2014 12:00:00 AM  06/24/2015 11:09:00 AM   \n",
      "481375                08/31/2014 09:00:00 AM                     NaN   \n",
      "481690                06/20/2014 01:38:00 PM                     NaN   \n",
      "478198                06/01/2014 11:59:00 AM  11/01/2014 12:00:00 PM   \n",
      "\n",
      "                  Hundred Block Location District/Sector Zone/Beat  \\\n",
      "RMS CDW ID                                                           \n",
      "483839             6XX BLOCK OF NW 74 ST               J        J2   \n",
      "481252             23XX BLOCK OF 43 AV E               C        C2   \n",
      "481375            81XX BLOCK OF 11 AV SW               F        F3   \n",
      "481690              6XX BLOCK OF PINE ST               M        M2   \n",
      "478198      77XX BLOCK OF SUNNYSIDE AV N               J        J3   \n",
      "\n",
      "            Census Tract 2000   Longitude   Latitude  \\\n",
      "RMS CDW ID                                             \n",
      "483839              2900.3013 -122.364672  47.682524   \n",
      "481252              6300.1004 -122.277080  47.639901   \n",
      "481375             11300.5013 -122.349312  47.529232   \n",
      "481690              8200.1002 -122.334818  47.612368   \n",
      "478198              2700.2015 -122.329379  47.685960   \n",
      "\n",
      "                                  Location  Month  Year  \n",
      "RMS CDW ID                                               \n",
      "483839       (47.68252427, -122.364671996)      6  2014  \n",
      "481252      (47.639900761, -122.277080248)      6  2014  \n",
      "481375      (47.529232299, -122.349312181)      8  2014  \n",
      "481690      (47.612368448, -122.334817763)      6  2014  \n",
      "478198      (47.685959879, -122.329378505)      6  2014  \n"
     ]
    }
   ],
   "source": [
    "print seattle_df.head()"
   ]
  },
  {
   "cell_type": "code",
   "execution_count": null,
   "metadata": {
    "collapsed": true
   },
   "outputs": [],
   "source": []
  }
 ],
 "metadata": {
  "kernelspec": {
   "display_name": "Python 2",
   "language": "python",
   "name": "python2"
  },
  "language_info": {
   "codemirror_mode": {
    "name": "ipython",
    "version": 2
   },
   "file_extension": ".py",
   "mimetype": "text/x-python",
   "name": "python",
   "nbconvert_exporter": "python",
   "pygments_lexer": "ipython2",
   "version": "2.7.11"
  }
 },
 "nbformat": 4,
 "nbformat_minor": 0
}

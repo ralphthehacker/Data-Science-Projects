{
 "cells": [
  {
   "cell_type": "code",
   "execution_count": 39,
   "metadata": {
    "collapsed": false
   },
   "outputs": [
    {
     "name": "stdout",
     "output_type": "stream",
     "text": [
      "['ARSON' 'NON-CRIMINAL' 'LARCENY/THEFT' 'DRUG/NARCOTIC'\n",
      " 'DRIVING UNDER THE INFLUENCE' 'OTHER OFFENSES' 'TRESPASS' 'VEHICLE THEFT'\n",
      " 'ASSAULT' 'FRAUD' 'SUSPICIOUS OCC' 'SECONDARY CODES' 'WEAPON LAWS'\n",
      " 'MISSING PERSON' 'WARRANTS' 'ROBBERY' 'DRUNKENNESS' 'PROSTITUTION'\n",
      " 'LIQUOR LAWS' 'KIDNAPPING' 'FAMILY OFFENSES' 'LOITERING'\n",
      " 'DISORDERLY CONDUCT' 'FORGERY/COUNTERFEITING' 'EMBEZZLEMENT' 'BURGLARY'\n",
      " 'SUICIDE' 'VANDALISM' 'STOLEN PROPERTY' 'RUNAWAY' 'GAMBLING' 'EXTORTION'\n",
      " 'PORNOGRAPHY/OBSCENE MAT' 'BRIBERY']\n",
      "crimes\n",
      "                             Descript  DayOfWeek  Date  Time  PdDistrict  \\\n",
      "Category                                                                   \n",
      "ARSON                              63         63    63    63          63   \n",
      "ASSAULT                          2882       2882  2882  2882        2882   \n",
      "BRIBERY                             1          1     1     1           1   \n",
      "BURGLARY                            6          6     6     6           6   \n",
      "DISORDERLY CONDUCT                 31         31    31    31          31   \n",
      "DRIVING UNDER THE INFLUENCE       100        100   100   100         100   \n",
      "DRUG/NARCOTIC                    1345       1345  1345  1345        1345   \n",
      "DRUNKENNESS                       147        147   147   147         147   \n",
      "EMBEZZLEMENT                       10         10    10    10          10   \n",
      "EXTORTION                           7          7     7     7           7   \n",
      "FAMILY OFFENSES                    10         10    10    10          10   \n",
      "FORGERY/COUNTERFEITING             18         18    18    18          18   \n",
      "FRAUD                             242        242   242   242         242   \n",
      "GAMBLING                            1          1     1     1           1   \n",
      "KIDNAPPING                        117        117   117   117         117   \n",
      "LARCENY/THEFT                    9466       9466  9466  9466        9466   \n",
      "LIQUOR LAWS                        42         42    42    42          42   \n",
      "LOITERING                           3          3     3     3           3   \n",
      "MISSING PERSON                   1266       1266  1266  1266        1266   \n",
      "NON-CRIMINAL                     3023       3023  3023  3023        3023   \n",
      "OTHER OFFENSES                   3567       3567  3567  3567        3567   \n",
      "PORNOGRAPHY/OBSCENE MAT             1          1     1     1           1   \n",
      "PROSTITUTION                      112        112   112   112         112   \n",
      "ROBBERY                           308        308   308   308         308   \n",
      "RUNAWAY                            61         61    61    61          61   \n",
      "SECONDARY CODES                   442        442   442   442         442   \n",
      "STOLEN PROPERTY                     8          8     8     8           8   \n",
      "SUICIDE                            14         14    14    14          14   \n",
      "SUSPICIOUS OCC                   1300       1300  1300  1300        1300   \n",
      "TRESPASS                          281        281   281   281         281   \n",
      "VANDALISM                          17         17    17    17          17   \n",
      "VEHICLE THEFT                    1966       1966  1966  1966        1966   \n",
      "WARRANTS                         1782       1782  1782  1782        1782   \n",
      "WEAPON LAWS                       354        354   354   354         354   \n",
      "\n",
      "                             Resolution  Address     X     Y  Location  PdId  \n",
      "Category                                                                      \n",
      "ARSON                                63       63    63    63        63    63  \n",
      "ASSAULT                            2882     2882  2882  2882      2882  2882  \n",
      "BRIBERY                               1        1     1     1         1     1  \n",
      "BURGLARY                              6        6     6     6         6     6  \n",
      "DISORDERLY CONDUCT                   31       31    31    31        31    31  \n",
      "DRIVING UNDER THE INFLUENCE         100      100   100   100       100   100  \n",
      "DRUG/NARCOTIC                      1345     1345  1345  1345      1345  1345  \n",
      "DRUNKENNESS                         147      147   147   147       147   147  \n",
      "EMBEZZLEMENT                         10       10    10    10        10    10  \n",
      "EXTORTION                             7        7     7     7         7     7  \n",
      "FAMILY OFFENSES                      10       10    10    10        10    10  \n",
      "FORGERY/COUNTERFEITING               18       18    18    18        18    18  \n",
      "FRAUD                               242      242   242   242       242   242  \n",
      "GAMBLING                              1        1     1     1         1     1  \n",
      "KIDNAPPING                          117      117   117   117       117   117  \n",
      "LARCENY/THEFT                      9466     9466  9466  9466      9466  9466  \n",
      "LIQUOR LAWS                          42       42    42    42        42    42  \n",
      "LOITERING                             3        3     3     3         3     3  \n",
      "MISSING PERSON                     1266     1266  1266  1266      1266  1266  \n",
      "NON-CRIMINAL                       3023     3023  3023  3023      3023  3023  \n",
      "OTHER OFFENSES                     3567     3567  3567  3567      3567  3567  \n",
      "PORNOGRAPHY/OBSCENE MAT               1        1     1     1         1     1  \n",
      "PROSTITUTION                        112      112   112   112       112   112  \n",
      "ROBBERY                             308      308   308   308       308   308  \n",
      "RUNAWAY                              61       61    61    61        61    61  \n",
      "SECONDARY CODES                     442      442   442   442       442   442  \n",
      "STOLEN PROPERTY                       8        8     8     8         8     8  \n",
      "SUICIDE                              14       14    14    14        14    14  \n",
      "SUSPICIOUS OCC                     1300     1300  1300  1300      1300  1300  \n",
      "TRESPASS                            281      281   281   281       281   281  \n",
      "VANDALISM                            17       17    17    17        17    17  \n",
      "VEHICLE THEFT                      1966     1966  1966  1966      1966  1966  \n",
      "WARRANTS                           1782     1782  1782  1782      1782  1782  \n",
      "WEAPON LAWS                         354      354   354   354       354   354  \n",
      "districts\n",
      "Index([u'Descript', u'DayOfWeek', u'Date', u'Time', u'Resolution', u'Address', u'X', u'Y', u'Location', u'PdId'], dtype='object')\n"
     ]
    }
   ],
   "source": [
    "import pandas as pd\n",
    "\n",
    "\n",
    "\n",
    "\n",
    "# Loading data into the 2 dataframes\n",
    "seattle_df = pd.DataFrame.from_csv(\"/Users/ralphblanes/PycharmProjects/Data-Science-Projects/Crime Visualizations/seattle_incidents_summer_2014.csv\")\n",
    "sanfran_df = pd.DataFrame.from_csv(\"/Users/ralphblanes/PycharmProjects/Data-Science-Projects/Crime Visualizations/sanfrancisco_incidents_summer_2014.csv\")\n",
    "\n",
    "sanfran_types = sanfran_df[\"Category\"].unique()\n",
    "\n",
    "\n",
    "\n",
    "\n",
    "print sanfran_types\n",
    "district_counts = sanfran_df.groupby(['Category','PdDistrict']).count()\n",
    "crime_type_counts = sanfran_df.groupby('Category').count()\n",
    "print \"crimes\"\n",
    "print crime_type_counts\n",
    "print \"districts\"\n",
    "print district_counts.keys()\n",
    "\n",
    "\n",
    "\n",
    "#Now, calculate the total number of crimes per district\n"
   ]
  },
  {
   "cell_type": "markdown",
   "metadata": {
    "collapsed": false
   },
   "source": [
    "### "
   ]
  },
  {
   "cell_type": "code",
   "execution_count": null,
   "metadata": {
    "collapsed": true
   },
   "outputs": [],
   "source": []
  }
 ],
 "metadata": {
  "kernelspec": {
   "display_name": "Python 2",
   "language": "python",
   "name": "python2"
  },
  "language_info": {
   "codemirror_mode": {
    "name": "ipython",
    "version": 2
   },
   "file_extension": ".py",
   "mimetype": "text/x-python",
   "name": "python",
   "nbconvert_exporter": "python",
   "pygments_lexer": "ipython2",
   "version": "2.7.11"
  }
 },
 "nbformat": 4,
 "nbformat_minor": 0
}
